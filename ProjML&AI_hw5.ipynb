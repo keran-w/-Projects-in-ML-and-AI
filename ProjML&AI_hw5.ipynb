{
  "nbformat": 4,
  "nbformat_minor": 0,
  "metadata": {
    "colab": {
      "provenance": [],
      "authorship_tag": "ABX9TyOj1OQNwRUbWYbiWfoukbMC",
      "include_colab_link": true
    },
    "kernelspec": {
      "name": "python3",
      "display_name": "Python 3"
    },
    "language_info": {
      "name": "python"
    }
  },
  "cells": [
    {
      "cell_type": "markdown",
      "metadata": {
        "id": "view-in-github",
        "colab_type": "text"
      },
      "source": [
        "<a href=\"https://colab.research.google.com/github/keran-w/Projects-in-ML-and-AI/blob/main/ProjML%26AI_hw5.ipynb\" target=\"_parent\"><img src=\"https://colab.research.google.com/assets/colab-badge.svg\" alt=\"Open In Colab\"/></a>"
      ]
    },
    {
      "cell_type": "markdown",
      "source": [
        "# Homework 5 -- CNNs, AEs, GANs\n",
        "https://submitty.cs.rpi.edu/courses/f22/csci4962/course_material/Homeworks/Homework%205.pdf"
      ],
      "metadata": {
        "id": "inAYxHMoPblj"
      }
    },
    {
      "cell_type": "code",
      "execution_count": null,
      "metadata": {
        "id": "1mwuCOhgPTlD"
      },
      "outputs": [],
      "source": [
        "# connect to google drive\n",
        "from google.colab import drive\n",
        "from IPython.display import clear_output\n",
        "drive.mount('/content/drive', force_remount=True)\n",
        "clear_output()\n",
        "\n",
        "import warnings\n",
        "warnings.filterwarnings('ignore')"
      ]
    },
    {
      "cell_type": "code",
      "source": [
        "# Set a fixed randomness\n",
        "import os\n",
        "import torch\n",
        "import random   \n",
        "import numpy as np\n",
        "def seed_everything(seed=20):\n",
        "    \"\"\"set seed for all\"\"\"\n",
        "    os.environ['PYTHONHASHSEED'] = str(seed)\n",
        "    random.seed(seed)\n",
        "    np.random.seed(seed)\n",
        "    torch.manual_seed(seed)\n",
        "    torch.cuda.manual_seed(seed)\n",
        "    torch.cuda.manual_seed_all(seed)\n",
        "    torch.backends.cudnn.deterministic = True\n",
        "seed_everything()"
      ],
      "metadata": {
        "id": "kRfStqUrP2he"
      },
      "execution_count": null,
      "outputs": []
    },
    {
      "cell_type": "code",
      "source": [
        "# import dataset from kaggle\n",
        "if not os.path.isfile('~/.kaggle/kaggle.json'):\n",
        "    os.system('mkdir ~/.kaggle')\n",
        "    os.system('cp /content/drive/MyDrive/kaggle.json ~/.kaggle/kaggle.json')\n",
        "\n",
        "!kaggle datasets download -d misrakahmed/vegetable-image-dataset\n",
        "!unzip vegetable-image-dataset.zip -d .\n",
        "clear_output()"
      ],
      "metadata": {
        "id": "pSn8B7CuPza8"
      },
      "execution_count": null,
      "outputs": []
    },
    {
      "cell_type": "code",
      "source": [
        "# Data preprocessing\n",
        "# import pandas as pd\n",
        "# images = ['images/images/' + filename for filename in os.listdir('images/images')]\n",
        "# data_df = pd.read_csv('pokemon.csv')\n",
        "# data_df['image'] = images\n",
        "# data_df"
      ],
      "metadata": {
        "id": "FI5QRTgLQKLU"
      },
      "execution_count": null,
      "outputs": []
    },
    {
      "cell_type": "code",
      "source": [],
      "metadata": {
        "id": "aOaqMzKRQUYt"
      },
      "execution_count": null,
      "outputs": []
    }
  ]
}